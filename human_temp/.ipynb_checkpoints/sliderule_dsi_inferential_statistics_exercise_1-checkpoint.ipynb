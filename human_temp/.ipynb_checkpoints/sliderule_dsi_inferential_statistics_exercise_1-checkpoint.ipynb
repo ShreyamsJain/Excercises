{
 "cells": [
  {
   "cell_type": "markdown",
   "metadata": {},
   "source": [
    "# What is the True Normal Human Body Temperature? \n",
    "\n",
    "#### Background\n",
    "\n",
    "The mean normal body temperature was held to be 37$^{\\circ}$C or 98.6$^{\\circ}$F for more than 120 years since it was first conceptualized and reported by Carl Wunderlich in a famous 1868 book. But, is this value statistically correct?"
   ]
  },
  {
   "cell_type": "markdown",
   "metadata": {},
   "source": [
    "<div class=\"span5 alert alert-info\">\n",
    "<h3>Exercises</h3>\n",
    "\n",
    "<p>In this exercise, you will analyze a dataset of human body temperatures and employ the concepts of hypothesis testing, confidence intervals, and statistical significance.</p>\n",
    "\n",
    "<p>Answer the following questions <b>in this notebook below and submit to your Github account</b>.</p> \n",
    "\n",
    "<ol>\n",
    "<li>  Is the distribution of body temperatures normal? \n",
    "    <ul>\n",
    "    <li> Although this is not a requirement for CLT to hold (read CLT carefully), it gives us some peace of mind that the population may also be normally distributed if we assume that this sample is representative of the population.\n",
    "    </ul>\n",
    "<li>  Is the sample size large? Are the observations independent?\n",
    "    <ul>\n",
    "    <li> Remember that this is a condition for the CLT, and hence the statistical tests we are using, to apply.\n",
    "    </ul>\n",
    "<li>  Is the true population mean really 98.6 degrees F?\n",
    "    <ul>\n",
    "    <li> Would you use a one-sample or two-sample test? Why?\n",
    "    <li> In this situation, is it appropriate to use the $t$ or $z$ statistic? \n",
    "    <li> Now try using the other test. How is the result be different? Why?\n",
    "    </ul>\n",
    "<li>  At what temperature should we consider someone's temperature to be \"abnormal\"?\n",
    "    <ul>\n",
    "    <li> Start by computing the margin of error and confidence interval.\n",
    "    </ul>\n",
    "<li>  Is there a significant difference between males and females in normal temperature?\n",
    "    <ul>\n",
    "    <li> What test did you use and why?\n",
    "    <li> Write a story with your conclusion in the context of the original problem.\n",
    "    </ul>\n",
    "</ol>\n",
    "\n",
    "You can include written notes in notebook cells using Markdown: \n",
    "   - In the control panel at the top, choose Cell > Cell Type > Markdown\n",
    "   - Markdown syntax: http://nestacms.com/docs/creating-content/markdown-cheat-sheet\n",
    "\n",
    "#### Resources\n",
    "\n",
    "+ Information and data sources: http://www.amstat.org/publications/jse/datasets/normtemp.txt, http://www.amstat.org/publications/jse/jse_data_archive.htm\n",
    "+ Markdown syntax: http://nestacms.com/docs/creating-content/markdown-cheat-sheet\n",
    "\n",
    "****\n",
    "</div>"
   ]
  },
  {
   "cell_type": "code",
   "execution_count": 2,
   "metadata": {},
   "outputs": [],
   "source": [
    "import pandas as pd\n",
    "\n",
    "df = pd.read_csv('data/human_body_temperature.csv')"
   ]
  },
  {
   "cell_type": "code",
   "execution_count": 3,
   "metadata": {},
   "outputs": [
    {
     "name": "stdout",
     "output_type": "stream",
     "text": [
      "Index([u'temperature', u'gender', u'heart_rate'], dtype='object')\n"
     ]
    }
   ],
   "source": [
    "# Your work here.\n",
    "print(df.columns)"
   ]
  },
  {
   "cell_type": "code",
   "execution_count": 37,
   "metadata": {},
   "outputs": [
    {
     "name": "stdout",
     "output_type": "stream",
     "text": [
      "<class 'pandas.core.frame.DataFrame'>\n",
      "RangeIndex: 130 entries, 0 to 129\n",
      "Data columns (total 3 columns):\n",
      "temperature    130 non-null float64\n",
      "gender         130 non-null object\n",
      "heart_rate     130 non-null float64\n",
      "dtypes: float64(2), object(1)\n",
      "memory usage: 3.1+ KB\n"
     ]
    }
   ],
   "source": [
    "df.head()\n",
    "df.info()"
   ]
  },
  {
   "cell_type": "code",
   "execution_count": 20,
   "metadata": {},
   "outputs": [
    {
     "data": {
      "image/png": "[encoded data removed]",
      "text/plain": [
       "<matplotlib.figure.Figure at 0x1071185d0>"
      ]
     },
     "metadata": {},
     "output_type": "display_data"
    },
    {
     "data": {
      "text/plain": [
       "NormaltestResult(statistic=2.7038014333192031, pvalue=0.2587479863488254)"
      ]
     },
     "execution_count": 20,
     "metadata": {},
     "output_type": "execute_result"
    }
   ],
   "source": [
    "import matplotlib.pyplot as plt\n",
    "import seaborn as sns\n",
    "import scipy\n",
    "\n",
    "sns.set()\n",
    "df['temperature'].plot('hist', bins=30)\n",
    "plt.xlabel('Body Temperatures')\n",
    "plt.ylabel('Frequency')\n",
    "plt.show()\n",
    "\n",
    "scipy.stats.normaltest(df.temperature, axis=0, nan_policy='omit')"
   ]
  },
  {
   "cell_type": "markdown",
   "metadata": {},
   "source": [
    "### 1. Is the distribution of body temperatures normal?\n",
    "It looks like the sample of temparatures are normally distributed as we can see that the samples show an upward trend starting around 96.8, drops at around 97.6. Then we see a sudden rise at around 98.8 and then a seemingly normal dip after that. Just by looking at it we can say that the distribution is normal. However, lets do a normaltest to check if the distribution is normal. We can see that the normal test has given a p-value of 25%, which is higher than the threshold 5% for normalcy.\n",
    "\n",
    "## Thus we can conclude that the distribution of body temperatures as a normal distribution."
   ]
  },
  {
   "cell_type": "markdown",
   "metadata": {},
   "source": [
    "### 2. Is the sample size large? Are the observations independent?\n",
    "We have observed that there are a total of 130 non null samples which seems to be enough for preliminary analysis, but not sufficient for performing predictive analysis.\n",
    "\n",
    "## The observations are taken from random people at different periods of time who are not related to one another in any way. Thus we can say that the samples are independent."
   ]
  },
  {
   "cell_type": "markdown",
   "metadata": {},
   "source": [
    "### 3. Is the true population mean really 98.6 degrees F?\n",
    "Would you use a one-sample or two-sample test? Why?\n",
    "In this situation, is it appropriate to use the  tt  or  zz  statistic?\n",
    "Now try using the other test. How is the result be different? Why?\n",
    "\n",
    "From the existing dataset, we have calculated the mean to be approximately 98.2\n",
    "One of the preliminary checks we can perform to see if the mean is correct or not is to check the median value , mainly to ensure that the mean has no effects from the outlier values.\n",
    "We have the median value to be around 98.3 which is close to 98.2, hence by this test we can assume that the mean is correct. However, this is not enough. We can further perform checks like z or t test to check if the mean is accurate.\n",
    "\n",
    "In our case, since we have only one sample which is used to test, it would be a one sample test.\n",
    "\n",
    "Since, we know the mean and standard deviation of the original samples, we can use the z-test. A z statistic is used when the sample size is greater than 30. Since we have more than 30 samples here, we will do a z test\n",
    "\n",
    "#### Z - test:\n",
    "Lets establish the hypothesis:\n",
    "The null hypothesis is actual mean i.e H0 = 98.6\n",
    "The alternate hypothesis is the mean is H1 = 98.25\n",
    "\n",
    "Lets have an alpha of 0.05 and the z score should be between -1.96 to +1.96 for us to accept the hypothesis. The values taken from z table.\n",
    "\n",
    "After calculating the z score, we observe that the score is -5.46 which is less than the expected -1.96.\n",
    "### Hence we reject the null hypothesis that 98.6 is the mean temperature.\n",
    "\n",
    "#### T - test:\n",
    "T test is used when the samples are less than 30. in this case lets still perform the t test. Calculating the t test is the same as z test. \n",
    "\n",
    "The threshould however is -1.97 to +1.97. Since the t score is also -5.46, we can reject the null hypothesis that 98.6 is the actual mean. "
   ]
  },
  {
   "cell_type": "code",
   "execution_count": 29,
   "metadata": {},
   "outputs": [
    {
     "name": "stdout",
     "output_type": "stream",
     "text": [
      "Mean is 98.2492307692\n",
      "Median is 98.3\n",
      "Standard Deviation is 0.730357778905\n"
     ]
    }
   ],
   "source": [
    "import numpy as np\n",
    "\n",
    "print(\"Mean is \" + str(np.mean(df['temperature'])))\n",
    "print(\"Median is \" + str(np.median(df['temperature'])))\n",
    "print(\"Standard Deviation is \" + str(np.std(df['temperature'])))"
   ]
  },
  {
   "cell_type": "code",
   "execution_count": 33,
   "metadata": {},
   "outputs": [
    {
     "name": "stdout",
     "output_type": "stream",
     "text": [
      "Z score is -5.4665945039\n",
      "T score is same are z score\n"
     ]
    }
   ],
   "source": [
    "z_score = (98.25 - 98.6)/(0.73/np.sqrt(130))\n",
    "print(\"Z score is \" + str(z_score))\n",
    "print(\"T score is same are z score\")"
   ]
  },
  {
   "cell_type": "code",
   "execution_count": 38,
   "metadata": {},
   "outputs": [
    {
     "data": {
      "image/png": "[encoded data removed]",
      "text/plain": [
       "<matplotlib.figure.Figure at 0x107129a90>"
      ]
     },
     "metadata": {},
     "output_type": "display_data"
    },
    {
     "data": {
      "text/html": [
       "<div>\n",
       "<table border=\"1\" class=\"dataframe\">\n",
       "  <thead>\n",
       "    <tr style=\"text-align: right;\">\n",
       "      <th></th>\n",
       "      <th>temperature</th>\n",
       "      <th>gender</th>\n",
       "      <th>heart_rate</th>\n",
       "    </tr>\n",
       "  </thead>\n",
       "  <tbody>\n",
       "    <tr>\n",
       "      <th>0</th>\n",
       "      <td>99.3</td>\n",
       "      <td>F</td>\n",
       "      <td>68.0</td>\n",
       "    </tr>\n",
       "    <tr>\n",
       "      <th>1</th>\n",
       "      <td>98.4</td>\n",
       "      <td>F</td>\n",
       "      <td>81.0</td>\n",
       "    </tr>\n",
       "    <tr>\n",
       "      <th>2</th>\n",
       "      <td>97.8</td>\n",
       "      <td>M</td>\n",
       "      <td>73.0</td>\n",
       "    </tr>\n",
       "    <tr>\n",
       "      <th>3</th>\n",
       "      <td>99.2</td>\n",
       "      <td>F</td>\n",
       "      <td>66.0</td>\n",
       "    </tr>\n",
       "    <tr>\n",
       "      <th>4</th>\n",
       "      <td>98.0</td>\n",
       "      <td>F</td>\n",
       "      <td>73.0</td>\n",
       "    </tr>\n",
       "  </tbody>\n",
       "</table>\n",
       "</div>"
      ],
      "text/plain": [
       "   temperature gender  heart_rate\n",
       "0         99.3      F        68.0\n",
       "1         98.4      F        81.0\n",
       "2         97.8      M        73.0\n",
       "3         99.2      F        66.0\n",
       "4         98.0      F        73.0"
      ]
     },
     "execution_count": 38,
     "metadata": {},
     "output_type": "execute_result"
    }
   ],
   "source": [
    "def ecdf(data):\n",
    "    \"\"\"Compute ECDF for a one-dimensional array of measurements.\"\"\"\n",
    "    # Number of data points: n\n",
    "    n = len(data)\n",
    "    # x-data for the ECDF: x\n",
    "    x = np.sort(data)\n",
    "    # y-data for the ECDF: y\n",
    "    y = np.arange(1, n+1) / n\n",
    "    return x, y\n",
    "\n",
    "mean = np.mean(df['temperature'])\n",
    "std = np.std(df['temperature'])\n",
    "samples = np.random.normal(mean, std, size=10)\n",
    "temperatures = df['temperature']\n",
    "x, y = ecdf(temperatures)\n",
    "x_theor, y_theor = ecdf(samples)\n",
    "_ = plt.plot(x_theor, y_theor)\n",
    "_ = plt.plot(x, y, marker='.', linestyle='none')\n",
    "plt.xlabel('Temperatures')\n",
    "plt.ylabel('ECDF')\n",
    "plt.margins(0.02)\n",
    "plt.show()\n",
    "df.head()"
   ]
  },
  {
   "cell_type": "markdown",
   "metadata": {},
   "source": [
    "#### 4. At what temperature should we consider someone's temperature to be \"abnormal\"?\n",
    "Start by computing the margin of error and confidence interval.\n",
    "\n",
    "## Based on our calculation of margin of error and confidence interval, we can conclude that any temperature below 98.12 and above 98.37 can be considered abnormal."
   ]
  },
  {
   "cell_type": "code",
   "execution_count": 36,
   "metadata": {},
   "outputs": [
    {
     "name": "stdout",
     "output_type": "stream",
     "text": [
      "Any score below 98.1236798044 and above 98.374781734 is considered abnormal\n"
     ]
    }
   ],
   "source": [
    "std = np.std(df['temperature'])\n",
    "# 1.96 is the z score for 95% confidence interval\n",
    "margin_of_error = 1.96 * (std/np.sqrt(130))\n",
    "ci_pos = mean + margin_of_error\n",
    "ci_neg = mean - margin_of_error\n",
    "print(\"Any score below \" + str(ci_neg) + \" and above \" + str(ci_pos) + \" is considered abnormal\")"
   ]
  },
  {
   "cell_type": "markdown",
   "metadata": {},
   "source": [
    "#### 5. Is there a significant difference between males and females in normal temperature?\n",
    "What test did you use and why?\n",
    "Write a story with your conclusion in the context of the original problem.\n",
    "\n",
    "Null Hypothesis : the difference between the means is 0 i.e there is no significant difference between male and female body temperatures\n",
    "Alternate hypothesis : There is a significant difference between the 2 samples\n",
    "\n",
    "H0 : mean_men - mean_women = 0\n",
    "H1 : mean_men - mean_women != 0\n",
    "\n",
    "The t statistic from the t table is -1.96 to +1.96.\n",
    "Any value of the t score below or above the above scores will lead to the rejection of the null hypothesis.\n",
    "\n",
    "Based on our calculation of t score, we have a score of -2.29 which is less than -1.96.\n",
    "### Hence we can reject our null hypothesis and say that there is a significant difference between the means of male and female samples.\n",
    "\n",
    "The statistic used is t-test."
   ]
  },
  {
   "cell_type": "code",
   "execution_count": 44,
   "metadata": {},
   "outputs": [
    {
     "name": "stdout",
     "output_type": "stream",
     "text": [
      "Mean for Male: 98.1046153846\n",
      "Mean for Female: 98.3938461538\n",
      "Standard Deviation for male: 0.693359884183\n",
      "Standard Deviation for Female: 0.737746448643\n",
      "Samples for Male: 65\n",
      "Samples for Female: 65\n"
     ]
    },
    {
     "data": {
      "image/png": "[encoded data removed]",
      "text/plain": [
       "<matplotlib.figure.Figure at 0x10a2bb4d0>"
      ]
     },
     "metadata": {},
     "output_type": "display_data"
    }
   ],
   "source": [
    "df_men = df[df['gender'] == 'M']\n",
    "df_women = df[df['gender'] == 'F']\n",
    "\n",
    "mean_men = np.mean(df_men['temperature'])\n",
    "mean_women = np.mean(df_women['temperature'])\n",
    "std_men = np.std(df_men['temperature'])\n",
    "std_women = np.std(df_women['temperature'])\n",
    "male_samples = df_men['temperature'].count()\n",
    "female_samples = df_women['temperature'].count()\n",
    "\n",
    "print(\"Mean for Male: \" + str(mean_men))\n",
    "print(\"Mean for Female: \" + str(mean_women))\n",
    "print(\"Standard Deviation for male: \" + str(std_men))\n",
    "print(\"Standard Deviation for Female: \" + str(std_women))\n",
    "print(\"Samples for Male: \" + str(male_samples))\n",
    "print(\"Samples for Female: \" + str(female_samples))\n",
    "\n",
    "results = [df_men['temperature'], df_women['temperature']]\n",
    "names = ['Male', 'Female']\n",
    "difference = mean_men - mean_women # Lol\n",
    "\n",
    "## H0 = \n",
    "## H1 = \n",
    "\n",
    "# z_score_mean = ()\n",
    "\n",
    "fig = plt.figure()\n",
    "fig.suptitle('Male Female Body Temperature Comparison')\n",
    "ax = fig.add_subplot(111)\n",
    "plt.boxplot(results)\n",
    "ax.set_xticklabels(names)\n",
    "plt.show()\n"
   ]
  },
  {
   "cell_type": "code",
   "execution_count": 61,
   "metadata": {},
   "outputs": [
    {
     "name": "stdout",
     "output_type": "stream",
     "text": [
      "Pooled standard deviation is 0.715436929435\n",
      "Standard Error is: 0.0\n"
     ]
    }
   ],
   "source": [
    "import math\n",
    "# formula = sqrt(((n1-1).(std1**2) + (n2-1).(std2**2))/(n1+n2-2))\n",
    "# n1 and n2 are number of samples, std1 and std2 are the respective standard deviations\n",
    "pool_std_male_female = math.sqrt((((65-1)*(0.69**2))+((65-1)*(0.74**2)))/(65+65-2))\n",
    "print(\"Pooled standard deviation is \"+ str(pool_std_male_female))\n",
    "# sqrt(1/n1 + 1/n2)\n",
    "male_female_sample = math.sqrt((1/65) + (1/65))\n",
    "standard_error = pool_std_male_female * male_female_sample\n",
    "print(\"Standard Error is: \" + str(standard_error))"
   ]
  },
  {
   "cell_type": "code",
   "execution_count": 62,
   "metadata": {},
   "outputs": [
    {
     "name": "stdout",
     "output_type": "stream",
     "text": [
      "Calculated T score is -2.29548229548\n"
     ]
    }
   ],
   "source": [
    "# We have a stadard error of 0.124 * 0.72 = 0.126\n",
    "t_value = (mean_men-mean_women)/0.126\n",
    "print(\"Calculated T score is \"+str(t_value))"
   ]
  }
 ],
 "metadata": {
  "kernelspec": {
   "display_name": "Python 2",
   "language": "python",
   "name": "python2"
  },
  "language_info": {
   "codemirror_mode": {
    "name": "ipython",
    "version": 2
   },
   "file_extension": ".py",
   "mimetype": "text/x-python",
   "name": "python",
   "nbconvert_exporter": "python",
   "pygments_lexer": "ipython2",
   "version": "2.7.12"
  }
 },
 "nbformat": 4,
 "nbformat_minor": 1
}
